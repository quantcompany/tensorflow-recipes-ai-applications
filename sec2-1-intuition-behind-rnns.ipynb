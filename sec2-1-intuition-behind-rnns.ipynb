{
 "cells": [
  {
   "cell_type": "markdown",
   "metadata": {},
   "source": [
    "# The Intuition Behind RNNs"
   ]
  },
  {
   "cell_type": "code",
   "execution_count": 2,
   "metadata": {},
   "outputs": [],
   "source": [
    "import numpy as np\n",
    "import pandas as pd"
   ]
  },
  {
   "cell_type": "code",
   "execution_count": 3,
   "metadata": {},
   "outputs": [
    {
     "data": {
      "text/html": [
       "<div>\n",
       "<style scoped>\n",
       "    .dataframe tbody tr th:only-of-type {\n",
       "        vertical-align: middle;\n",
       "    }\n",
       "\n",
       "    .dataframe tbody tr th {\n",
       "        vertical-align: top;\n",
       "    }\n",
       "\n",
       "    .dataframe thead th {\n",
       "        text-align: right;\n",
       "    }\n",
       "</style>\n",
       "<table border=\"1\" class=\"dataframe\">\n",
       "  <thead>\n",
       "    <tr style=\"text-align: right;\">\n",
       "      <th></th>\n",
       "      <th>x1</th>\n",
       "      <th>x2</th>\n",
       "    </tr>\n",
       "    <tr>\n",
       "      <th>t</th>\n",
       "      <th></th>\n",
       "      <th></th>\n",
       "    </tr>\n",
       "  </thead>\n",
       "  <tbody>\n",
       "    <tr>\n",
       "      <th>0</th>\n",
       "      <td>1</td>\n",
       "      <td>9</td>\n",
       "    </tr>\n",
       "    <tr>\n",
       "      <th>1</th>\n",
       "      <td>6</td>\n",
       "      <td>7</td>\n",
       "    </tr>\n",
       "    <tr>\n",
       "      <th>2</th>\n",
       "      <td>5</td>\n",
       "      <td>5</td>\n",
       "    </tr>\n",
       "    <tr>\n",
       "      <th>3</th>\n",
       "      <td>3</td>\n",
       "      <td>3</td>\n",
       "    </tr>\n",
       "    <tr>\n",
       "      <th>4</th>\n",
       "      <td>7</td>\n",
       "      <td>7</td>\n",
       "    </tr>\n",
       "    <tr>\n",
       "      <th>5</th>\n",
       "      <td>7</td>\n",
       "      <td>3</td>\n",
       "    </tr>\n",
       "    <tr>\n",
       "      <th>6</th>\n",
       "      <td>8</td>\n",
       "      <td>4</td>\n",
       "    </tr>\n",
       "    <tr>\n",
       "      <th>7</th>\n",
       "      <td>9</td>\n",
       "      <td>6</td>\n",
       "    </tr>\n",
       "    <tr>\n",
       "      <th>8</th>\n",
       "      <td>8</td>\n",
       "      <td>2</td>\n",
       "    </tr>\n",
       "    <tr>\n",
       "      <th>9</th>\n",
       "      <td>9</td>\n",
       "      <td>7</td>\n",
       "    </tr>\n",
       "  </tbody>\n",
       "</table>\n",
       "</div>"
      ],
      "text/plain": [
       "   x1  x2\n",
       "t        \n",
       "0   1   9\n",
       "1   6   7\n",
       "2   5   5\n",
       "3   3   3\n",
       "4   7   7\n",
       "5   7   3\n",
       "6   8   4\n",
       "7   9   6\n",
       "8   8   2\n",
       "9   9   7"
      ]
     },
     "execution_count": 3,
     "metadata": {},
     "output_type": "execute_result"
    }
   ],
   "source": [
    "# Generating a sequence with 2 features and 10 indices (timesteps)\n",
    "timesteps = 10\n",
    "input_features = 2\n",
    "out_features = 3\n",
    "sequence = pd.DataFrame(data=np.random.randint(low=0, high=10, size=(timesteps, input_features)),\n",
    "                       index=range(timesteps), columns=['x'+str(i+1) for i in range(input_features)])\n",
    "\n",
    "sequence.index.name='t'\n",
    "sequence"
   ]
  },
  {
   "cell_type": "code",
   "execution_count": 15,
   "metadata": {},
   "outputs": [],
   "source": [
    "Wx = np.random.normal(size=(input_features, out_features))\n",
    "Wh = np.random.normal(size=(out_features, out_features))\n",
    "b = np.random.random((out_features))\n",
    "\n",
    "def little_neural_net(inputs, state):\n",
    "    return np.round(np.tanh(np.dot(inputs, Wx) + np.dot(state, Wh) + b),4)"
   ]
  },
  {
   "cell_type": "code",
   "execution_count": 16,
   "metadata": {},
   "outputs": [],
   "source": [
    "outputs = pd.Series(index=sequence.index, dtype='object')\n",
    "state = np.zeros((out_features,)) # initial state of zeros\n",
    "## Toy RNN, just for intuition\n",
    "for t in sequence.index:\n",
    "    outputs.iloc[t] = little_neural_net(sequence.iloc[t], state)\n",
    "    state = outputs.iloc[t]"
   ]
  },
  {
   "cell_type": "code",
   "execution_count": 19,
   "metadata": {},
   "outputs": [
    {
     "data": {
      "text/plain": [
       "t\n",
       "0       [0.9998, 1.0, -0.9814]\n",
       "1      [-1.0, 0.9954, -0.9927]\n",
       "2       [-1.0, 0.4794, 0.3162]\n",
       "3    [-0.9716, 0.5796, 0.7392]\n",
       "4       [-1.0, 0.9621, -0.393]\n",
       "5      [-1.0, -0.9375, 0.7519]\n",
       "6      [-1.0, -0.9455, 0.3212]\n",
       "7      [-1.0, -0.7931, -0.335]\n",
       "8      [-1.0, -0.9993, 0.7575]\n",
       "9     [-1.0, -0.0319, -0.5893]\n",
       "dtype: object"
      ]
     },
     "execution_count": 19,
     "metadata": {},
     "output_type": "execute_result"
    }
   ],
   "source": [
    "outputs"
   ]
  },
  {
   "cell_type": "code",
   "execution_count": null,
   "metadata": {},
   "outputs": [],
   "source": []
  }
 ],
 "metadata": {
  "kernelspec": {
   "display_name": "Python 3",
   "language": "python",
   "name": "python3"
  },
  "language_info": {
   "codemirror_mode": {
    "name": "ipython",
    "version": 3
   },
   "file_extension": ".py",
   "mimetype": "text/x-python",
   "name": "python",
   "nbconvert_exporter": "python",
   "pygments_lexer": "ipython3",
   "version": "3.6.4"
  }
 },
 "nbformat": 4,
 "nbformat_minor": 2
}
